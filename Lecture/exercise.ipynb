{
 "cells": [
  {
   "attachments": {},
   "cell_type": "markdown",
   "metadata": {},
   "source": [
    "# BST Delete\n",
    "\n",
    "Write the delete funciton for BST class"
   ]
  },
  {
   "cell_type": "code",
   "execution_count": 1,
   "metadata": {
    "ExecuteTime": {
     "end_time": "2024-07-11T23:18:23.183631201Z",
     "start_time": "2024-07-11T23:18:23.177845337Z"
    }
   },
   "outputs": [],
   "source": [
    "class Node:\n",
    "    def __init__(self, key):\n",
    "        self.left = None\n",
    "        self.right = None\n",
    "        self.val = key\n",
    "\n",
    "class BST:\n",
    "    def __init__(self):\n",
    "        self.root = None\n",
    "\n",
    "    def insert(self, root, key):\n",
    "        if root is None:\n",
    "            root = Node(key)\n",
    "        else:\n",
    "            if root.val < key:\n",
    "                root.right = self.insert(root.right, key)\n",
    "            else:\n",
    "                root.left = self.insert(root.left, key)\n",
    "        return root\n",
    "\n",
    "    def search(self, root, key):\n",
    "        if root is None or root.val == key:\n",
    "            return root\n",
    "\n",
    "        if root.val < key:\n",
    "            return self.search(root.right, key)\n",
    "\n",
    "        return self.search(root.left, key)\n",
    "    \n",
    "    def delete(self, root, key):\n",
    "        def leftmost(root):\n",
    "            while root.left:\n",
    "                root = root.left\n",
    "            return root\n",
    "        if root.val < key:\n",
    "            self.delete(root.right,key)\n",
    "        elif root.val < key:\n",
    "            self.delete(root.left,key)\n",
    "        else:\n",
    "            if not root.left:\n",
    "                return root.right\n",
    "            elif not root.right:\n",
    "                return root.left\n",
    "            else:\n",
    "                temp = leftmost(root.right)\n",
    "                root.val = temp\n",
    "                self.delete(root.right, temp)"
   ]
  },
  {
   "attachments": {},
   "cell_type": "markdown",
   "metadata": {},
   "source": [
    "# In-order, pre-order, post order\n",
    "\n",
    "Implement in-order, pre-order and post-order traversal for the BST."
   ]
  },
  {
   "cell_type": "code",
   "execution_count": null,
   "metadata": {},
   "outputs": [],
   "source": []
  }
 ],
 "metadata": {
  "language_info": {
   "name": "python"
  },
  "orig_nbformat": 4,
  "kernelspec": {
   "name": "python3",
   "language": "python",
   "display_name": "Python 3 (ipykernel)"
  }
 },
 "nbformat": 4,
 "nbformat_minor": 2
}
